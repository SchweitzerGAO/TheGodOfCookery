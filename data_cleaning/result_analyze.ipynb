{
 "cells": [
  {
   "cell_type": "code",
   "execution_count": 42,
   "id": "initial_id",
   "metadata": {
    "collapsed": true,
    "ExecuteTime": {
     "end_time": "2024-04-29T09:16:27.851222200Z",
     "start_time": "2024-04-29T09:16:19.924694200Z"
    }
   },
   "outputs": [
    {
     "name": "stdout",
     "output_type": "stream",
     "text": [
      "开始加载分析集结果\n"
     ]
    },
    {
     "name": "stderr",
     "output_type": "stream",
     "text": [
      "100%|██████████| 1059536/1059536 [00:07<00:00, 143881.27it/s]"
     ]
    },
    {
     "name": "stdout",
     "output_type": "stream",
     "text": [
      "加载分析结果集结束\n",
      "分析结果集大小： 1059536\n"
     ]
    },
    {
     "name": "stderr",
     "output_type": "stream",
     "text": [
      "\n"
     ]
    },
    {
     "data": {
      "text/plain": "{'alnum_ratio': 1.0,\n 'char_rep_ratio': 0.0,\n 'lang': 'zh',\n 'lang_score': 0.9015420675,\n 'perplexity': 5107.6,\n 'text_len': 7}"
     },
     "execution_count": 42,
     "metadata": {},
     "output_type": "execute_result"
    }
   ],
   "source": [
    "import os\n",
    "import json\n",
    "from tqdm import tqdm\n",
    "\n",
    "print(\"开始加载分析集结果\")\n",
    "# data_path_result = os.environ.get('HOME') + \"/cook-data/recipe_corpus_stats_origin.jsonl\"\n",
    "data_path_result = os.environ.get('HOME') + \"/cook-data/recipe_corpus_stats_deduped.jsonl\"\n",
    "f1 = open(data_path_result, 'r', encoding='utf-8')\n",
    "result = []\n",
    "for line in tqdm(f1.readlines()):\n",
    "    result_line = json.loads(line)\n",
    "    result.append(result_line[\"__dj__stats__\"])\n",
    "print(\"加载分析结果集结束\")\n",
    "print(\"分析结果集大小：\", len(result))\n",
    "result[0]"
   ]
  },
  {
   "cell_type": "code",
   "outputs": [
    {
     "data": {
      "text/plain": "   alnum_ratio  char_rep_ratio lang  lang_score  perplexity  text_len\n0          1.0             0.0   zh    0.901542      5107.6         7\n1          1.0             0.0   zh    0.851976      7772.0         8\n2          1.0             0.0   zh    0.764956      9754.6         8\n3          1.0             0.0   zh    0.834716      8572.6         8\n4          1.0             0.0   zh    0.875503      3468.7         9",
      "text/html": "<div>\n<style scoped>\n    .dataframe tbody tr th:only-of-type {\n        vertical-align: middle;\n    }\n\n    .dataframe tbody tr th {\n        vertical-align: top;\n    }\n\n    .dataframe thead th {\n        text-align: right;\n    }\n</style>\n<table border=\"1\" class=\"dataframe\">\n  <thead>\n    <tr style=\"text-align: right;\">\n      <th></th>\n      <th>alnum_ratio</th>\n      <th>char_rep_ratio</th>\n      <th>lang</th>\n      <th>lang_score</th>\n      <th>perplexity</th>\n      <th>text_len</th>\n    </tr>\n  </thead>\n  <tbody>\n    <tr>\n      <th>0</th>\n      <td>1.0</td>\n      <td>0.0</td>\n      <td>zh</td>\n      <td>0.901542</td>\n      <td>5107.6</td>\n      <td>7</td>\n    </tr>\n    <tr>\n      <th>1</th>\n      <td>1.0</td>\n      <td>0.0</td>\n      <td>zh</td>\n      <td>0.851976</td>\n      <td>7772.0</td>\n      <td>8</td>\n    </tr>\n    <tr>\n      <th>2</th>\n      <td>1.0</td>\n      <td>0.0</td>\n      <td>zh</td>\n      <td>0.764956</td>\n      <td>9754.6</td>\n      <td>8</td>\n    </tr>\n    <tr>\n      <th>3</th>\n      <td>1.0</td>\n      <td>0.0</td>\n      <td>zh</td>\n      <td>0.834716</td>\n      <td>8572.6</td>\n      <td>8</td>\n    </tr>\n    <tr>\n      <th>4</th>\n      <td>1.0</td>\n      <td>0.0</td>\n      <td>zh</td>\n      <td>0.875503</td>\n      <td>3468.7</td>\n      <td>9</td>\n    </tr>\n  </tbody>\n</table>\n</div>"
     },
     "execution_count": 43,
     "metadata": {},
     "output_type": "execute_result"
    }
   ],
   "source": [
    "import pandas as pd\n",
    "df = pd.DataFrame(result)\n",
    "df.head()"
   ],
   "metadata": {
    "collapsed": false,
    "ExecuteTime": {
     "end_time": "2024-04-29T09:16:29.229664900Z",
     "start_time": "2024-04-29T09:16:27.843223300Z"
    }
   },
   "id": "74b7fbaf82029194",
   "execution_count": 43
  },
  {
   "cell_type": "code",
   "outputs": [],
   "source": [
    "describe = df.describe()"
   ],
   "metadata": {
    "collapsed": false,
    "ExecuteTime": {
     "end_time": "2024-04-29T09:16:29.488235600Z",
     "start_time": "2024-04-29T09:16:29.215639400Z"
    }
   },
   "id": "6346471c62204221",
   "execution_count": 44
  },
  {
   "cell_type": "code",
   "outputs": [],
   "source": [
    "from matplotlib import pyplot as plt\n",
    "\n",
    "def plot_hist(df, column_name, max_label, step):\n",
    "    label_count = [0] * int(max_label / step)\n",
    "    x_list = [i for i in range(int(max_label / step))]\n",
    "    x_list = [i * step for i in x_list]\n",
    "    for i in tqdm(range(len(df))):\n",
    "        if int(df[column_name][i]) < max_label:\n",
    "            label_count[int(df[column_name][i]/step)] += 1\n",
    "        else:\n",
    "            label_count[-1] += 1\n",
    "    print(\"label_count: \",label_count)\n",
    "    plt.bar(x_list, label_count)\n",
    "    plt.xlabel(column_name)\n",
    "    plt.ylabel(\"count\")\n",
    "    plt.xlim(0, max_label)\n",
    "    plt.tight_layout()\n",
    "    plt.show()"
   ],
   "metadata": {
    "collapsed": false,
    "ExecuteTime": {
     "end_time": "2024-04-29T09:16:29.489884300Z",
     "start_time": "2024-04-29T09:16:29.478536300Z"
    }
   },
   "id": "f96a127c574a6bf9",
   "execution_count": 45
  },
  {
   "cell_type": "code",
   "outputs": [],
   "source": [
    "def analyze_result(df, column_name, max_label, step):\n",
    "    print(column_name + \" mean: \", describe[column_name][\"mean\"])\n",
    "    print(column_name + \" std: \", describe[column_name][\"std\"])\n",
    "    print(column_name + \" 3-σ left: \", describe[column_name][\"mean\"] - 3 * describe[column_name][\"std\"])\n",
    "    print(column_name + \" 3-σ right: \", describe[column_name][\"mean\"] + 3 * describe[column_name][\"std\"])\n",
    "    plot_hist(df, column_name, max_label, step)"
   ],
   "metadata": {
    "collapsed": false,
    "ExecuteTime": {
     "end_time": "2024-04-29T09:16:29.493889400Z",
     "start_time": "2024-04-29T09:16:29.486235Z"
    }
   },
   "id": "b0fba0802adc1f78",
   "execution_count": 46
  },
  {
   "cell_type": "code",
   "outputs": [
    {
     "name": "stdout",
     "output_type": "stream",
     "text": [
      "alnum_ratio mean:  0.9403015440073093\n",
      "alnum_ratio std:  0.08971808067352725\n",
      "alnum_ratio 3-σ left:  0.6711473019867276\n",
      "alnum_ratio 3-σ right:  1.209455786027891\n"
     ]
    },
    {
     "name": "stderr",
     "output_type": "stream",
     "text": [
      "100%|██████████| 1059536/1059536 [00:10<00:00, 99454.03it/s] \n"
     ]
    },
    {
     "name": "stdout",
     "output_type": "stream",
     "text": [
      "label_count:  [3, 65, 407, 629, 770, 3049, 10448, 61895, 225298, 756972]\n"
     ]
    },
    {
     "data": {
      "text/plain": "<Figure size 640x480 with 1 Axes>",
      "image/png": "[encoded data removed]"
     },
     "metadata": {},
     "output_type": "display_data"
    }
   ],
   "source": [
    "analyze_result(df, \"alnum_ratio\", 1, 0.1)"
   ],
   "metadata": {
    "collapsed": false,
    "ExecuteTime": {
     "end_time": "2024-04-29T09:16:40.320261800Z",
     "start_time": "2024-04-29T09:16:29.494896200Z"
    }
   },
   "id": "c3fc4f573fe3d42a",
   "execution_count": 47
  },
  {
   "cell_type": "code",
   "outputs": [
    {
     "name": "stdout",
     "output_type": "stream",
     "text": [
      "char_rep_ratio mean:  0.00043852897274184165\n",
      "char_rep_ratio std:  0.01428722614454086\n",
      "char_rep_ratio 3-σ left:  -0.042423149460880744\n",
      "char_rep_ratio 3-σ right:  0.04330020740636442\n"
     ]
    },
    {
     "name": "stderr",
     "output_type": "stream",
     "text": [
      "100%|██████████| 1059536/1059536 [00:13<00:00, 76578.61it/s]\n"
     ]
    },
    {
     "name": "stdout",
     "output_type": "stream",
     "text": [
      "label_count:  [1058365, 157, 248, 206, 195, 222, 103, 32, 8, 0]\n"
     ]
    },
    {
     "data": {
      "text/plain": "<Figure size 640x480 with 1 Axes>",
      "image/png": "[encoded data removed]"
     },
     "metadata": {},
     "output_type": "display_data"
    }
   ],
   "source": [
    "analyze_result(df, \"char_rep_ratio\", 1, 0.1)"
   ],
   "metadata": {
    "collapsed": false,
    "ExecuteTime": {
     "end_time": "2024-04-29T09:16:54.286141900Z",
     "start_time": "2024-04-29T09:16:40.304262600Z"
    }
   },
   "id": "88206a737bc3335f",
   "execution_count": 48
  },
  {
   "cell_type": "code",
   "outputs": [
    {
     "name": "stdout",
     "output_type": "stream",
     "text": [
      "lang_score mean:  0.69027554891915\n",
      "lang_score std:  0.2390340854718623\n",
      "lang_score 3-σ left:  -0.026826707496436897\n",
      "lang_score 3-σ right:  1.407377805334737\n"
     ]
    },
    {
     "name": "stderr",
     "output_type": "stream",
     "text": [
      "100%|██████████| 1059536/1059536 [00:12<00:00, 84949.18it/s]\n"
     ]
    },
    {
     "name": "stdout",
     "output_type": "stream",
     "text": [
      "label_count:  [988, 24662, 60188, 74943, 86004, 124362, 123078, 131410, 156605, 277296]\n"
     ]
    },
    {
     "data": {
      "text/plain": "<Figure size 640x480 with 1 Axes>",
      "image/png": "[encoded data removed]"
     },
     "metadata": {},
     "output_type": "display_data"
    }
   ],
   "source": [
    "analyze_result(df, \"lang_score\", 1, 0.1)"
   ],
   "metadata": {
    "collapsed": false,
    "ExecuteTime": {
     "end_time": "2024-04-29T09:17:06.934696700Z",
     "start_time": "2024-04-29T09:16:54.278136500Z"
    }
   },
   "id": "6ed5dd695d215078",
   "execution_count": 49
  },
  {
   "cell_type": "code",
   "outputs": [
    {
     "name": "stdout",
     "output_type": "stream",
     "text": [
      "perplexity mean:  3420.0861821589833\n",
      "perplexity std:  5353.667376814537\n",
      "perplexity 3-σ left:  -12640.91594828463\n",
      "perplexity 3-σ right:  19481.088312602595\n"
     ]
    },
    {
     "name": "stderr",
     "output_type": "stream",
     "text": [
      "100%|██████████| 1059536/1059536 [00:12<00:00, 87993.30it/s]\n"
     ]
    },
    {
     "name": "stdout",
     "output_type": "stream",
     "text": [
      "label_count:  [265766, 288194, 164334, 97075, 60976, 41298, 28745, 20833, 15909, 76406]\n"
     ]
    },
    {
     "data": {
      "text/plain": "<Figure size 640x480 with 1 Axes>",
      "image/png": "[encoded data removed]"
     },
     "metadata": {},
     "output_type": "display_data"
    }
   ],
   "source": [
    "analyze_result(df, \"perplexity\", 10000, 1000)"
   ],
   "metadata": {
    "collapsed": false,
    "ExecuteTime": {
     "end_time": "2024-04-29T09:17:19.101500600Z",
     "start_time": "2024-04-29T09:17:06.917677600Z"
    }
   },
   "id": "77ff15be1d7c9057",
   "execution_count": 50
  },
  {
   "cell_type": "code",
   "outputs": [
    {
     "name": "stdout",
     "output_type": "stream",
     "text": [
      "text_len mean:  9.900525324292898\n",
      "text_len std:  6.020805355987743\n",
      "text_len 3-σ left:  -8.161890743670329\n",
      "text_len 3-σ right:  27.962941392256127\n"
     ]
    },
    {
     "name": "stderr",
     "output_type": "stream",
     "text": [
      "100%|██████████| 1059536/1059536 [00:12<00:00, 82374.78it/s]\n"
     ]
    },
    {
     "name": "stdout",
     "output_type": "stream",
     "text": [
      "label_count:  [641640, 347863, 55900, 10232, 2492, 748, 316, 122, 70, 153]\n"
     ]
    },
    {
     "data": {
      "text/plain": "<Figure size 640x480 with 1 Axes>",
      "image/png": "[encoded data removed]"
     },
     "metadata": {},
     "output_type": "display_data"
    }
   ],
   "source": [
    "analyze_result(df, \"text_len\", 100, 10)"
   ],
   "metadata": {
    "collapsed": false,
    "ExecuteTime": {
     "end_time": "2024-04-29T09:17:32.116763800Z",
     "start_time": "2024-04-29T09:17:19.100500300Z"
    }
   },
   "id": "1cf0a90aa2184ce5",
   "execution_count": 51
  },
  {
   "cell_type": "code",
   "outputs": [
    {
     "name": "stdout",
     "output_type": "stream",
     "text": [
      "开始加载数据集\n",
      "加载数据集结束\n"
     ]
    }
   ],
   "source": [
    "print(\"开始加载数据集\")\n",
    "data_path_juicer = os.environ.get('HOME') + \"/cook-data/recipe_corpus_dedup.json\"\n",
    "f2 = open(data_path_juicer, 'r', encoding='utf-8')\n",
    "json_data = []\n",
    "# data juicer在保存时，以1000条数据为一组，每组数据单独保存在一行\n",
    "# 所有这里需要两重循环\n",
    "for line in f2.readlines():\n",
    "    for recipe in json.loads(line):\n",
    "        json_data.append(recipe)\n",
    "print(\"加载数据集结束\")"
   ],
   "metadata": {
    "collapsed": false,
    "ExecuteTime": {
     "end_time": "2024-04-29T09:17:51.610421600Z",
     "start_time": "2024-04-29T09:17:32.103728100Z"
    }
   },
   "id": "f56734eadaf2da8",
   "execution_count": 52
  },
  {
   "cell_type": "code",
   "outputs": [
    {
     "name": "stderr",
     "output_type": "stream",
     "text": [
      "100%|██████████| 1059536/1059536 [00:06<00:00, 168828.21it/s]"
     ]
    },
    {
     "name": "stdout",
     "output_type": "stream",
     "text": [
      "{'zh': 743131, 'ja': 193746, 'en': 51584, 'sr': 3502, 'ko': 10101, 'fi': 979, 'ur': 44, 'it': 6948, 'hu': 1557, 'pt': 2420, 'de': 5581, 'vi': 1148, 'ru': 3508, 'tr': 2293, 'be': 48, 'sk': 59, 'fa': 1076, 'fr': 8496, 'as': 9, 'wuu': 1002, 'nl': 378, 'es': 4108, 'eo': 1088, 'el': 1462, 'ta': 684, 'mk': 825, 'ceb': 2444, 'pl': 1456, 'ca': 592, 'tt': 101, 'id': 448, 'eu': 245, 'hr': 360, 'te': 84, 'ms': 276, 'cs': 449, 'he': 318, 'ml': 120, 'hy': 284, 'bg': 271, 'kn': 118, 'is': 33, 'sv': 693, 'uk': 668, 'my': 295, 'mr': 119, 'la': 36, 'no': 218, 'ar': 244, 'als': 31, 'lo': 9, 'af': 30, 'war': 103, 'ast': 4, 'sh': 290, 'sq': 44, 'hi': 160, 'gl': 84, 'ilo': 27, 'uz': 39, 'ro': 516, 'et': 74, 'da': 232, 'lt': 241, 'pa': 58, 'bn': 42, 'br': 31, 'gu': 66, 'ia': 145, 'ka': 229, 'th': 296, 'jv': 9, 'tg': 22, 'si': 25, 'sl': 162, 'sco': 7, 'kk': 33, 'or': 14, 'yue': 107, 'nds': 72, 'fy': 2, 'tl': 43, 'cv': 12, 'oc': 106, 'an': 11, 'lrc': 1, 'bs': 24, 'ba': 16, 'az': 97, 'lv': 59, 'dv': 10, 'nn': 26, 'km': 65, 'vo': 8, 'lb': 7, 'ps': 2, 'ie': 5, 'bo': 8, 'hsb': 2, 'ckb': 3, 'ug': 15, 'mn': 6, 'io': 7, 'am': 7, 'arz': 7, 'yi': 3, 'pms': 14, 'eml': 1, 'ku': 8, 'vec': 2, 'os': 2, 'bpy': 1, 'so': 6, 'gd': 2, 'pnb': 7, 'min': 2, 'cy': 12, 'bh': 3, 'kw': 1, 'azb': 11, 'lmo': 6, 'mrj': 1, 'sw': 4, 'jbo': 4, 'ga': 6, 'mwl': 2, 'mt': 5, 'mg': 2, 'tk': 1, 'ce': 3, 'mzn': 1, 'sah': 4, 'xmf': 2, 'krc': 2, 'ky': 9, 'gom': 1, 'ne': 2, 'kv': 1, 'su': 3, 'pam': 1, 'sd': 1}\n"
     ]
    },
    {
     "name": "stderr",
     "output_type": "stream",
     "text": [
      "\n"
     ]
    }
   ],
   "source": [
    "count_dict = {}\n",
    "for i in tqdm(range(len(df))):\n",
    "    lang = df[\"lang\"][i]\n",
    "    if lang in count_dict:\n",
    "        count_dict[lang] += 1\n",
    "    else:\n",
    "        count_dict[lang] = 1\n",
    "print(count_dict)"
   ],
   "metadata": {
    "collapsed": false,
    "ExecuteTime": {
     "end_time": "2024-04-29T09:17:57.879114300Z",
     "start_time": "2024-04-29T09:17:51.592479600Z"
    }
   },
   "id": "11fe7f63940405d3",
   "execution_count": 53
  },
  {
   "cell_type": "code",
   "outputs": [
    {
     "name": "stderr",
     "output_type": "stream",
     "text": [
      "100%|██████████| 1059536/1059536 [00:09<00:00, 116013.20it/s]\n"
     ]
    }
   ],
   "source": [
    "lang_list_dict = {}\n",
    "for i in tqdm(range(len(df))):\n",
    "    lang = df[\"lang\"][i]\n",
    "    if lang not in lang_list_dict:\n",
    "        lang_list_dict[lang] = []\n",
    "    lang_list_dict[lang].append(i)"
   ],
   "metadata": {
    "collapsed": false,
    "ExecuteTime": {
     "end_time": "2024-04-29T09:18:07.039637800Z",
     "start_time": "2024-04-29T09:17:57.879114300Z"
    }
   },
   "id": "e98b66b7a981d9b4",
   "execution_count": 54
  },
  {
   "cell_type": "code",
   "outputs": [
    {
     "name": "stdout",
     "output_type": "stream",
     "text": [
      "10寸披萨，鸡蛋面饼\n",
      "零失败8寸蛋糕\n",
      "抹茶色斑马戚风8寸蛋糕\n",
      "“隔水法”8寸酸奶蛋糕🍰，轻乳酪蛋糕的口感\n",
      "BBQ烤鸡\n",
      "BBQ烤鸡翅\n",
      "BBQ烤鸡串\n",
      "Q弹鸡蛋羹\n",
      "杂\n",
      "陷\n"
     ]
    }
   ],
   "source": [
    "n = 10\n",
    "lang = 'en'\n",
    "for i in range(n):\n",
    "    print(json_data[lang_list_dict[lang][i]]['name'])"
   ],
   "metadata": {
    "collapsed": false,
    "ExecuteTime": {
     "end_time": "2024-04-29T09:18:07.040639100Z",
     "start_time": "2024-04-29T09:18:07.029288600Z"
    }
   },
   "id": "364b39092cc8a392",
   "execution_count": 55
  }
 ],
 "metadata": {
  "kernelspec": {
   "display_name": "Python 3",
   "language": "python",
   "name": "python3"
  },
  "language_info": {
   "codemirror_mode": {
    "name": "ipython",
    "version": 2
   },
   "file_extension": ".py",
   "mimetype": "text/x-python",
   "name": "python",
   "nbconvert_exporter": "python",
   "pygments_lexer": "ipython2",
   "version": "2.7.6"
  }
 },
 "nbformat": 4,
 "nbformat_minor": 5
}
