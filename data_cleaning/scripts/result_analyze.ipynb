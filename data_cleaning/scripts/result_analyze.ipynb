{
 "cells": [
  {
   "cell_type": "code",
   "execution_count": 31,
   "id": "initial_id",
   "metadata": {
    "collapsed": true,
    "ExecuteTime": {
     "end_time": "2024-05-01T08:52:55.086958200Z",
     "start_time": "2024-05-01T08:52:49.593498700Z"
    }
   },
   "outputs": [
    {
     "name": "stdout",
     "output_type": "stream",
     "text": [
      "开始加载分析集结果\n"
     ]
    },
    {
     "name": "stderr",
     "output_type": "stream",
     "text": [
      "100%|██████████| 1049218/1049218 [00:04<00:00, 214309.86it/s]"
     ]
    },
    {
     "name": "stdout",
     "output_type": "stream",
     "text": [
      "加载分析结果集结束\n",
      "分析结果集大小： 1049218\n"
     ]
    },
    {
     "name": "stderr",
     "output_type": "stream",
     "text": [
      "\n"
     ]
    },
    {
     "data": {
      "text/plain": "{'alnum_ratio': 1.0,\n 'char_rep_ratio': 0.0,\n 'lang': 'zh',\n 'lang_score': 0.9015420675,\n 'perplexity': 5107.6,\n 'text_len': 7}"
     },
     "execution_count": 31,
     "metadata": {},
     "output_type": "execute_result"
    }
   ],
   "source": [
    "import os\n",
    "import json\n",
    "from tqdm import tqdm\n",
    "\n",
    "print(\"开始加载分析集结果\")\n",
    "# data_path_result = os.environ.get('HOME') + \"/cook-data/recipe_corpus_stats_origin.jsonl\"\n",
    "data_path_result = os.environ.get('HOME') + \"/cook-data/recipe_corpus_ana_stats.jsonl\"\n",
    "f1 = open(data_path_result, 'r', encoding='utf-8')\n",
    "result = []\n",
    "for line in tqdm(f1.readlines()):\n",
    "    result_line = json.loads(line)\n",
    "    result.append(result_line[\"__dj__stats__\"])\n",
    "print(\"加载分析结果集结束\")\n",
    "print(\"分析结果集大小：\", len(result))\n",
    "result[0]"
   ]
  },
  {
   "cell_type": "code",
   "outputs": [
    {
     "data": {
      "text/plain": "   alnum_ratio  char_rep_ratio lang  lang_score  perplexity  text_len\n0          1.0             0.0   zh    0.901542      5107.6         7\n1          1.0             0.0   zh    0.851976      7772.0         8\n2          1.0             0.0   zh    0.764956      9754.6         8\n3          1.0             0.0   zh    0.834716      8572.6         8\n4          1.0             0.0   zh    0.875503      3468.7         9",
      "text/html": "<div>\n<style scoped>\n    .dataframe tbody tr th:only-of-type {\n        vertical-align: middle;\n    }\n\n    .dataframe tbody tr th {\n        vertical-align: top;\n    }\n\n    .dataframe thead th {\n        text-align: right;\n    }\n</style>\n<table border=\"1\" class=\"dataframe\">\n  <thead>\n    <tr style=\"text-align: right;\">\n      <th></th>\n      <th>alnum_ratio</th>\n      <th>char_rep_ratio</th>\n      <th>lang</th>\n      <th>lang_score</th>\n      <th>perplexity</th>\n      <th>text_len</th>\n    </tr>\n  </thead>\n  <tbody>\n    <tr>\n      <th>0</th>\n      <td>1.0</td>\n      <td>0.0</td>\n      <td>zh</td>\n      <td>0.901542</td>\n      <td>5107.6</td>\n      <td>7</td>\n    </tr>\n    <tr>\n      <th>1</th>\n      <td>1.0</td>\n      <td>0.0</td>\n      <td>zh</td>\n      <td>0.851976</td>\n      <td>7772.0</td>\n      <td>8</td>\n    </tr>\n    <tr>\n      <th>2</th>\n      <td>1.0</td>\n      <td>0.0</td>\n      <td>zh</td>\n      <td>0.764956</td>\n      <td>9754.6</td>\n      <td>8</td>\n    </tr>\n    <tr>\n      <th>3</th>\n      <td>1.0</td>\n      <td>0.0</td>\n      <td>zh</td>\n      <td>0.834716</td>\n      <td>8572.6</td>\n      <td>8</td>\n    </tr>\n    <tr>\n      <th>4</th>\n      <td>1.0</td>\n      <td>0.0</td>\n      <td>zh</td>\n      <td>0.875503</td>\n      <td>3468.7</td>\n      <td>9</td>\n    </tr>\n  </tbody>\n</table>\n</div>"
     },
     "execution_count": 32,
     "metadata": {},
     "output_type": "execute_result"
    }
   ],
   "source": [
    "import pandas as pd\n",
    "df = pd.DataFrame(result)\n",
    "df.head()"
   ],
   "metadata": {
    "collapsed": false,
    "ExecuteTime": {
     "end_time": "2024-05-01T08:52:56.326487300Z",
     "start_time": "2024-05-01T08:52:55.086958200Z"
    }
   },
   "id": "74b7fbaf82029194",
   "execution_count": 32
  },
  {
   "cell_type": "code",
   "outputs": [],
   "source": [
    "describe = df.describe()"
   ],
   "metadata": {
    "collapsed": false,
    "ExecuteTime": {
     "end_time": "2024-05-01T08:52:56.610516800Z",
     "start_time": "2024-05-01T08:52:56.326487300Z"
    }
   },
   "id": "6346471c62204221",
   "execution_count": 33
  },
  {
   "cell_type": "code",
   "outputs": [],
   "source": [
    "from matplotlib import pyplot as plt\n",
    "\n",
    "def plot_hist(df, column_name, max_label, step):\n",
    "    label_count = [0] * int(max_label / step)\n",
    "    x_list = [i for i in range(int(max_label / step))]\n",
    "    x_list = [i * step for i in x_list]\n",
    "    for i in tqdm(range(len(df))):\n",
    "        if int(df[column_name][i]) < max_label:\n",
    "            label_count[int(df[column_name][i]/step)] += 1\n",
    "        else:\n",
    "            label_count[-1] += 1\n",
    "    print(\"label_count: \",label_count)\n",
    "    print(\"sum of label_count: \", sum(label_count))\n",
    "    plt.bar(x_list, label_count)\n",
    "    plt.xlabel(column_name)\n",
    "    plt.ylabel(\"count\")\n",
    "    plt.xlim(0, max_label)\n",
    "    plt.tight_layout()\n",
    "    plt.show()"
   ],
   "metadata": {
    "collapsed": false,
    "ExecuteTime": {
     "end_time": "2024-05-01T08:52:56.613516300Z",
     "start_time": "2024-05-01T08:52:56.557890100Z"
    }
   },
   "id": "f96a127c574a6bf9",
   "execution_count": 34
  },
  {
   "cell_type": "code",
   "outputs": [],
   "source": [
    "def analyze_result(df, column_name, max_label, step):\n",
    "    print(column_name + \" mean: \", describe[column_name][\"mean\"])\n",
    "    print(column_name + \" std: \", describe[column_name][\"std\"])\n",
    "    print(column_name + \" 3-σ left: \", describe[column_name][\"mean\"] - 3 * describe[column_name][\"std\"])\n",
    "    print(column_name + \" 3-σ right: \", describe[column_name][\"mean\"] + 3 * describe[column_name][\"std\"])\n",
    "    plot_hist(df, column_name, max_label, step)"
   ],
   "metadata": {
    "collapsed": false,
    "ExecuteTime": {
     "end_time": "2024-05-01T08:52:56.614516600Z",
     "start_time": "2024-05-01T08:52:56.565888700Z"
    }
   },
   "id": "b0fba0802adc1f78",
   "execution_count": 35
  },
  {
   "cell_type": "code",
   "outputs": [
    {
     "name": "stdout",
     "output_type": "stream",
     "text": [
      "alnum_ratio mean:  0.9476834410476381\n",
      "alnum_ratio std:  0.08095315905960093\n",
      "alnum_ratio 3-σ left:  0.7048239638688354\n",
      "alnum_ratio 3-σ right:  1.1905429182264409\n"
     ]
    },
    {
     "name": "stderr",
     "output_type": "stream",
     "text": [
      "100%|██████████| 1049218/1049218 [00:07<00:00, 136101.65it/s]\n"
     ]
    },
    {
     "name": "stdout",
     "output_type": "stream",
     "text": [
      "label_count:  [1, 4, 25, 67, 202, 1372, 6167, 52352, 207305, 781723]\n",
      "sum of label_count:  1049218\n"
     ]
    },
    {
     "data": {
      "text/plain": "<Figure size 640x480 with 1 Axes>",
      "image/png": "[encoded data removed]"
     },
     "metadata": {},
     "output_type": "display_data"
    }
   ],
   "source": [
    "analyze_result(df, \"alnum_ratio\", 1, 0.1)"
   ],
   "metadata": {
    "collapsed": false,
    "ExecuteTime": {
     "end_time": "2024-05-01T08:53:04.411897200Z",
     "start_time": "2024-05-01T08:52:56.573518400Z"
    }
   },
   "id": "c3fc4f573fe3d42a",
   "execution_count": 36
  },
  {
   "cell_type": "code",
   "outputs": [
    {
     "name": "stdout",
     "output_type": "stream",
     "text": [
      "char_rep_ratio mean:  5.75554869054858e-07\n",
      "char_rep_ratio std:  0.0005059035826255438\n",
      "char_rep_ratio 3-σ left:  -0.0015171351930075765\n",
      "char_rep_ratio 3-σ right:  0.0015182863027456861\n"
     ]
    },
    {
     "name": "stderr",
     "output_type": "stream",
     "text": [
      "100%|██████████| 1049218/1049218 [00:11<00:00, 94876.43it/s]\n"
     ]
    },
    {
     "name": "stdout",
     "output_type": "stream",
     "text": [
      "label_count:  [1049217, 0, 0, 0, 0, 1, 0, 0, 0, 0]\n",
      "sum of label_count:  1049218\n"
     ]
    },
    {
     "data": {
      "text/plain": "<Figure size 640x480 with 1 Axes>",
      "image/png": "[encoded data removed]"
     },
     "metadata": {},
     "output_type": "display_data"
    }
   ],
   "source": [
    "analyze_result(df, \"char_rep_ratio\", 1, 0.1)"
   ],
   "metadata": {
    "collapsed": false,
    "ExecuteTime": {
     "end_time": "2024-05-01T08:53:15.600720Z",
     "start_time": "2024-05-01T08:53:04.413896300Z"
    }
   },
   "id": "88206a737bc3335f",
   "execution_count": 37
  },
  {
   "cell_type": "code",
   "outputs": [
    {
     "name": "stdout",
     "output_type": "stream",
     "text": [
      "lang_score mean:  0.69501130108211\n",
      "lang_score std:  0.23730469817962302\n",
      "lang_score 3-σ left:  -0.016902793456759158\n",
      "lang_score 3-σ right:  1.406925395620979\n"
     ]
    },
    {
     "name": "stderr",
     "output_type": "stream",
     "text": [
      "100%|██████████| 1049218/1049218 [00:10<00:00, 103833.07it/s]\n"
     ]
    },
    {
     "name": "stdout",
     "output_type": "stream",
     "text": [
      "label_count:  [876, 22817, 57079, 72038, 83836, 122872, 122091, 130844, 156628, 280137]\n",
      "sum of label_count:  1049218\n"
     ]
    },
    {
     "data": {
      "text/plain": "<Figure size 640x480 with 1 Axes>",
      "image/png": "[encoded data removed]"
     },
     "metadata": {},
     "output_type": "display_data"
    }
   ],
   "source": [
    "analyze_result(df, \"lang_score\", 1, 0.1)"
   ],
   "metadata": {
    "collapsed": false,
    "ExecuteTime": {
     "end_time": "2024-05-01T08:53:25.824356600Z",
     "start_time": "2024-05-01T08:53:15.602720600Z"
    }
   },
   "id": "6ed5dd695d215078",
   "execution_count": 38
  },
  {
   "cell_type": "code",
   "outputs": [
    {
     "name": "stdout",
     "output_type": "stream",
     "text": [
      "perplexity mean:  3151.61250750559\n",
      "perplexity std:  4718.027128022071\n",
      "perplexity 3-σ left:  -11002.468876560624\n",
      "perplexity 3-σ right:  17305.693891571806\n"
     ]
    },
    {
     "name": "stderr",
     "output_type": "stream",
     "text": [
      "100%|██████████| 1049218/1049218 [00:12<00:00, 84797.44it/s] \n"
     ]
    },
    {
     "name": "stdout",
     "output_type": "stream",
     "text": [
      "label_count:  [272594, 294414, 165236, 95484, 58842, 38947, 26759, 19067, 14262, 10954, 8348, 6617, 5364, 4326, 3697, 2972, 2466, 2175, 1831, 14863]\n",
      "sum of label_count:  1049218\n"
     ]
    },
    {
     "data": {
      "text/plain": "<Figure size 640x480 with 1 Axes>",
      "image/png": "[encoded data removed]"
     },
     "metadata": {},
     "output_type": "display_data"
    }
   ],
   "source": [
    "analyze_result(df, \"perplexity\", 20000, 1000)"
   ],
   "metadata": {
    "collapsed": false,
    "ExecuteTime": {
     "end_time": "2024-05-01T08:53:38.377353Z",
     "start_time": "2024-05-01T08:53:25.825357100Z"
    }
   },
   "id": "77ff15be1d7c9057",
   "execution_count": 39
  },
  {
   "cell_type": "code",
   "outputs": [
    {
     "name": "stdout",
     "output_type": "stream",
     "text": [
      "text_len mean:  9.820425307228811\n",
      "text_len std:  5.826108280705366\n",
      "text_len 3-σ left:  -7.657899534887287\n",
      "text_len 3-σ right:  27.29875014934491\n"
     ]
    },
    {
     "name": "stderr",
     "output_type": "stream",
     "text": [
      "100%|██████████| 1049218/1049218 [00:10<00:00, 101664.54it/s]\n"
     ]
    },
    {
     "name": "stdout",
     "output_type": "stream",
     "text": [
      "label_count:  [636736, 347851, 52378, 9108, 2024, 572, 261, 96, 63, 129]\n",
      "sum of label_count:  1049218\n"
     ]
    },
    {
     "data": {
      "text/plain": "<Figure size 640x480 with 1 Axes>",
      "image/png": "[encoded data removed]"
     },
     "metadata": {},
     "output_type": "display_data"
    }
   ],
   "source": [
    "analyze_result(df, \"text_len\", 100, 10)"
   ],
   "metadata": {
    "collapsed": false,
    "ExecuteTime": {
     "end_time": "2024-05-01T08:53:48.812501600Z",
     "start_time": "2024-05-01T08:53:38.371353900Z"
    }
   },
   "id": "1cf0a90aa2184ce5",
   "execution_count": 40
  },
  {
   "cell_type": "code",
   "outputs": [
    {
     "name": "stdout",
     "output_type": "stream",
     "text": [
      "开始加载数据集\n"
     ]
    },
    {
     "name": "stderr",
     "output_type": "stream",
     "text": [
      "100%|██████████| 1049218/1049218 [00:18<00:00, 56387.44it/s]\n"
     ]
    },
    {
     "name": "stdout",
     "output_type": "stream",
     "text": [
      "加载数据集结束\n"
     ]
    }
   ],
   "source": [
    "print(\"开始加载数据集\")\n",
    "# data juicer保存的输出文件是jsonl格式，这里需要逐行读取\n",
    "data_path_juicer = os.environ.get('HOME') + \"/cook-data/recipe_corpus_dedup.jsonl\"\n",
    "f1 = open(data_path_juicer, 'r', encoding='utf-8')\n",
    "json_data = []\n",
    "for line in tqdm(f1.readlines()):\n",
    "    json_data.append(json.loads(line))\n",
    "f1.close()\n",
    "print(\"加载数据集结束\")"
   ],
   "metadata": {
    "collapsed": false,
    "ExecuteTime": {
     "end_time": "2024-05-01T08:54:15.442558600Z",
     "start_time": "2024-05-01T08:53:48.813499900Z"
    }
   },
   "id": "f56734eadaf2da8",
   "execution_count": 41
  },
  {
   "cell_type": "code",
   "outputs": [
    {
     "name": "stderr",
     "output_type": "stream",
     "text": [
      "100%|██████████| 1049218/1049218 [00:06<00:00, 162235.69it/s]"
     ]
    },
    {
     "name": "stdout",
     "output_type": "stream",
     "text": [
      "{'zh': 739289, 'ja': 192312, 'en': 49471, 'sr': 3319, 'ko': 9876, 'fi': 941, 'ur': 45, 'it': 6712, 'pt': 2337, 'de': 5267, 'vi': 1124, 'ru': 3285, 'hr': 340, 'tr': 2183, 'be': 43, 'sk': 54, 'fa': 1029, 'fr': 7975, 'as': 6, 'hu': 1471, 'wuu': 996, 'nl': 351, 'es': 3995, 'eo': 1062, 'el': 1403, 'ta': 672, 'mk': 803, 'ceb': 2329, 'pl': 1412, 'ca': 570, 'tt': 97, 'sh': 277, 'eu': 236, 'te': 82, 'ms': 266, 'cs': 425, 'he': 305, 'ml': 118, 'hy': 278, 'bg': 223, 'kn': 116, 'is': 31, 'sv': 654, 'id': 431, 'uk': 633, 'my': 294, 'mr': 114, 'la': 34, 'no': 204, 'ar': 233, 'als': 30, 'lo': 9, 'af': 27, 'war': 93, 'ast': 4, 'sq': 44, 'hi': 154, 'gl': 84, 'ilo': 27, 'uz': 40, 'ro': 511, 'et': 68, 'da': 223, 'lt': 241, 'pa': 57, 'bn': 38, 'br': 31, 'gu': 67, 'ia': 139, 'ka': 229, 'th': 279, 'jv': 9, 'tg': 21, 'si': 24, 'sl': 162, 'sco': 7, 'kk': 32, 'or': 14, 'yue': 111, 'nds': 60, 'fy': 2, 'tl': 45, 'cv': 11, 'oc': 100, 'an': 11, 'lrc': 1, 'bs': 23, 'ba': 16, 'az': 97, 'lv': 57, 'dv': 8, 'nn': 24, 'km': 65, 'vo': 8, 'lb': 6, 'ps': 2, 'ie': 5, 'bo': 7, 'hsb': 2, 'ckb': 3, 'ug': 13, 'mn': 6, 'io': 7, 'am': 7, 'arz': 6, 'yi': 3, 'pms': 14, 'eml': 1, 'ku': 8, 'vec': 2, 'os': 2, 'bpy': 2, 'so': 6, 'gd': 2, 'pnb': 6, 'min': 2, 'cy': 9, 'bh': 4, 'kw': 1, 'azb': 11, 'lmo': 6, 'mrj': 1, 'sd': 1, 'jbo': 4, 'ga': 4, 'mwl': 2, 'mt': 5, 'mg': 2, 'tk': 1, 'sw': 2, 'ce': 2, 'mzn': 1, 'sah': 3, 'xmf': 2, 'krc': 2, 'ky': 9, 'gom': 1, 'ne': 2, 'kv': 1, 'su': 3, 'pam': 1}\n"
     ]
    },
    {
     "name": "stderr",
     "output_type": "stream",
     "text": [
      "\n"
     ]
    }
   ],
   "source": [
    "count_dict = {}\n",
    "for i in tqdm(range(len(df))):\n",
    "    lang = df[\"lang\"][i]\n",
    "    if lang in count_dict:\n",
    "        count_dict[lang] += 1\n",
    "    else:\n",
    "        count_dict[lang] = 1\n",
    "print(count_dict)"
   ],
   "metadata": {
    "collapsed": false,
    "ExecuteTime": {
     "end_time": "2024-05-01T08:54:21.922322300Z",
     "start_time": "2024-05-01T08:54:15.445558600Z"
    }
   },
   "id": "11fe7f63940405d3",
   "execution_count": 42
  },
  {
   "cell_type": "code",
   "outputs": [
    {
     "name": "stderr",
     "output_type": "stream",
     "text": [
      "100%|██████████| 1049218/1049218 [00:06<00:00, 162597.56it/s]\n"
     ]
    }
   ],
   "source": [
    "lang_list_dict = {}\n",
    "for i in tqdm(range(len(df))):\n",
    "    lang = df[\"lang\"][i]\n",
    "    if lang not in lang_list_dict:\n",
    "        lang_list_dict[lang] = []\n",
    "    lang_list_dict[lang].append(i)"
   ],
   "metadata": {
    "collapsed": false,
    "ExecuteTime": {
     "end_time": "2024-05-01T08:54:28.401177700Z",
     "start_time": "2024-05-01T08:54:21.924323500Z"
    }
   },
   "id": "e98b66b7a981d9b4",
   "execution_count": 43
  },
  {
   "cell_type": "code",
   "outputs": [
    {
     "name": "stdout",
     "output_type": "stream",
     "text": [
      "10寸披萨，鸡蛋面饼\n",
      "零失败8寸蛋糕\n",
      "抹茶色斑马戚风8寸蛋糕\n",
      "“隔水法”8寸酸奶蛋糕，轻乳酪蛋糕的口感\n",
      "BBQ烤鸡\n",
      "BBQ烤鸡翅\n",
      "BBQ烤鸡串\n",
      "Q弹鸡蛋羹\n",
      "\n",
      "杂\n"
     ]
    }
   ],
   "source": [
    "n = 10\n",
    "lang = 'en'\n",
    "for i in range(n):\n",
    "    print(json_data[lang_list_dict[lang][i]]['name'])"
   ],
   "metadata": {
    "collapsed": false,
    "ExecuteTime": {
     "end_time": "2024-05-01T08:54:28.412694200Z",
     "start_time": "2024-05-01T08:54:28.401177700Z"
    }
   },
   "id": "364b39092cc8a392",
   "execution_count": 44
  },
  {
   "cell_type": "code",
   "outputs": [
    {
     "name": "stderr",
     "output_type": "stream",
     "text": [
      "  0%|          | 119/1049218 [00:00<00:08, 119065.40it/s]"
     ]
    },
    {
     "name": "stdout",
     "output_type": "stream",
     "text": [
      "6寸8寸10寸戚风蛋糕\n",
      "红配绿4寸小蛋糕\n",
      "6寸蛋糕坯\n",
      "6寸蛋糕坯子\n",
      "6寸蛋糕家用\n",
      "古早6寸蛋糕\n",
      "6寸蛋糕模面包\n",
      "6寸蛋糕 古早味\n",
      "6寸蛋糕胚+裱花（最简单的步骤）\n",
      "戚风8寸蛋糕胚\n",
      "8寸蛋糕裱花奶油\n"
     ]
    },
    {
     "name": "stderr",
     "output_type": "stream",
     "text": [
      "\n"
     ]
    }
   ],
   "source": [
    "n = 10\n",
    "m=0\n",
    "for i in tqdm(range(len(df))):\n",
    "    if df[\"perplexity\"][i] > 20000:\n",
    "        print(json_data[i]['name'])\n",
    "        m += 1\n",
    "    if m > n:\n",
    "        break"
   ],
   "metadata": {
    "collapsed": false,
    "ExecuteTime": {
     "end_time": "2024-05-01T08:54:28.416693200Z",
     "start_time": "2024-05-01T08:54:28.407693700Z"
    }
   },
   "id": "cbd4eb41dc1a0b2e",
   "execution_count": 45
  }
 ],
 "metadata": {
  "kernelspec": {
   "display_name": "Python 3",
   "language": "python",
   "name": "python3"
  },
  "language_info": {
   "codemirror_mode": {
    "name": "ipython",
    "version": 2
   },
   "file_extension": ".py",
   "mimetype": "text/x-python",
   "name": "python",
   "nbconvert_exporter": "python",
   "pygments_lexer": "ipython2",
   "version": "2.7.6"
  }
 },
 "nbformat": 4,
 "nbformat_minor": 5
}
